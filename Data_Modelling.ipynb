{
  "nbformat": 4,
  "nbformat_minor": 0,
  "metadata": {
    "colab": {
      "provenance": [],
      "authorship_tag": "ABX9TyNfSiTAHg10qMdi1J02XU7i",
      "include_colab_link": true
    },
    "kernelspec": {
      "name": "python3",
      "display_name": "Python 3"
    },
    "language_info": {
      "name": "python"
    }
  },
  "cells": [
    {
      "cell_type": "markdown",
      "metadata": {
        "id": "view-in-github",
        "colab_type": "text"
      },
      "source": [
        "<a href=\"https://colab.research.google.com/github/Matlup45/Data-Assignment/blob/main/Data_Modelling.ipynb\" target=\"_parent\"><img src=\"https://colab.research.google.com/assets/colab-badge.svg\" alt=\"Open In Colab\"/></a>"
      ]
    },
    {
      "cell_type": "code",
      "execution_count": 1,
      "metadata": {
        "id": "Zn4N0WMCydoZ"
      },
      "outputs": [],
      "source": [
        "import random\n",
        "import datetime\n",
        "import pandas as pd\n",
        "\n",
        "def random_date(start, end):\n",
        "    return start + datetime.timedelta(days=random.randint(0, int((end - start).days)))\n"
      ]
    },
    {
      "cell_type": "code",
      "source": [
        "def generate_customers(num_customers):\n",
        "    customers = []\n",
        "    for i in range(num_customers):\n",
        "        customer = {\n",
        "            'customer_id': i + 1,\n",
        "            'name': f'Customer {i + 1}',\n",
        "            'email': f'customer{i + 1}@example.com',\n",
        "            'phone': f'123-456-78{i + 1}',\n",
        "            'address': f'Address {i + 1}'\n",
        "        }\n",
        "        customers.append(customer)\n",
        "    return customers"
      ],
      "metadata": {
        "id": "nHhU0r9XzD2G"
      },
      "execution_count": 2,
      "outputs": []
    },
    {
      "cell_type": "code",
      "source": [
        "def generate_products(num_products):\n",
        "    categories = ['clothing', 'groceries', 'electronics']\n",
        "    products = []\n",
        "    variants = []\n",
        "    variant_id = 1\n",
        "    for i in range(num_products):\n",
        "        product = {\n",
        "            'product_id': i + 1,\n",
        "            'name': f'Product {i + 1}',\n",
        "            'description': f'Description for Product {i + 1}',\n",
        "            'category': random.choice(categories),\n",
        "            'status': 'active'\n",
        "        }\n",
        "        products.append(product)\n",
        "\n",
        "        num_variants = random.randint(1, 3)\n",
        "        for j in range(num_variants):\n",
        "            variant = {\n",
        "                'variant_id': variant_id,\n",
        "                'product_id': i + 1,\n",
        "                'color': random.choice(['red', 'green', 'blue']),\n",
        "                'size': random.choice(['S', 'M', 'L']),\n",
        "                'price': round(random.uniform(10, 100), 2),\n",
        "                'status': 'active'\n",
        "            }\n",
        "            variants.append(variant)\n",
        "            variant_id += 1\n",
        "    return products, variants"
      ],
      "metadata": {
        "id": "BJHpmGibzELY"
      },
      "execution_count": 3,
      "outputs": []
    },
    {
      "cell_type": "code",
      "source": [
        "def generate_orders(customers, variants, start_date, end_date, num_orders):\n",
        "    orders = []\n",
        "    order_items = []\n",
        "    order_id = 1\n",
        "    order_item_id = 1\n",
        "    for i in range(num_orders):\n",
        "        customer = random.choice(customers)\n",
        "        order_date = random_date(start_date, end_date)\n",
        "        num_items = random.randint(1, 5)\n",
        "        total_amount = 0\n",
        "\n",
        "        for j in range(num_items):\n",
        "            variant = random.choice(variants)\n",
        "            quantity = random.randint(1, 3)\n",
        "            price = variant['price'] * quantity\n",
        "            total_amount += price\n",
        "\n",
        "            order_item = {\n",
        "                'order_item_id': order_item_id,\n",
        "                'order_id': order_id,\n",
        "                'variant_id': variant['variant_id'],\n",
        "                'quantity': quantity,\n",
        "                'price': price\n",
        "            }\n",
        "            order_items.append(order_item)\n",
        "            order_item_id += 1\n",
        "\n",
        "        order = {\n",
        "            'order_id': order_id,\n",
        "            'customer_id': customer['customer_id'],\n",
        "            'order_date': order_date,\n",
        "            'total_amount': round(total_amount, 2),\n",
        "            'status': 'completed'\n",
        "        }\n",
        "        orders.append(order)\n",
        "        order_id += 1\n",
        "    return orders, order_items"
      ],
      "metadata": {
        "id": "3VcaC9VizEN8"
      },
      "execution_count": 4,
      "outputs": []
    },
    {
      "cell_type": "code",
      "source": [
        "# Generate data\n",
        "num_customers = 10\n",
        "num_products = 10\n",
        "start_date = datetime.date(2022, 1, 1)\n",
        "end_date = datetime.date(2024, 7, 1)\n",
        "num_orders = 50\n",
        "\n",
        "customers = generate_customers(num_customers)\n",
        "products, variants = generate_products(num_products)\n",
        "orders, order_items = generate_orders(customers, variants, start_date, end_date, num_orders)"
      ],
      "metadata": {
        "id": "-9MTkbiJzEQW"
      },
      "execution_count": 5,
      "outputs": []
    },
    {
      "cell_type": "code",
      "source": [
        "# Convert to DataFrame for better visualization\n",
        "customers_df = pd.DataFrame(customers)\n",
        "products_df = pd.DataFrame(products)\n",
        "variants_df = pd.DataFrame(variants)\n",
        "orders_df = pd.DataFrame(orders)\n",
        "order_items_df = pd.DataFrame(order_items)"
      ],
      "metadata": {
        "id": "E7TWqMf2zES7"
      },
      "execution_count": 6,
      "outputs": []
    },
    {
      "cell_type": "code",
      "source": [
        "# Display sample data\n",
        "print(customers_df.head())\n",
        "print(products_df.head())\n",
        "print(variants_df.head())\n",
        "print(orders_df.head())\n",
        "print(order_items_df.head())"
      ],
      "metadata": {
        "colab": {
          "base_uri": "https://localhost:8080/"
        },
        "id": "tBvQaJtwzEWc",
        "outputId": "fe40b63c-4495-4631-ab31-3a6f321fc688"
      },
      "execution_count": 7,
      "outputs": [
        {
          "output_type": "stream",
          "name": "stdout",
          "text": [
            "   customer_id        name                  email        phone    address\n",
            "0            1  Customer 1  customer1@example.com  123-456-781  Address 1\n",
            "1            2  Customer 2  customer2@example.com  123-456-782  Address 2\n",
            "2            3  Customer 3  customer3@example.com  123-456-783  Address 3\n",
            "3            4  Customer 4  customer4@example.com  123-456-784  Address 4\n",
            "4            5  Customer 5  customer5@example.com  123-456-785  Address 5\n",
            "   product_id       name                description     category  status\n",
            "0           1  Product 1  Description for Product 1  electronics  active\n",
            "1           2  Product 2  Description for Product 2  electronics  active\n",
            "2           3  Product 3  Description for Product 3    groceries  active\n",
            "3           4  Product 4  Description for Product 4     clothing  active\n",
            "4           5  Product 5  Description for Product 5  electronics  active\n",
            "   variant_id  product_id  color size  price  status\n",
            "0           1           1   blue    L  11.63  active\n",
            "1           2           1   blue    S  94.09  active\n",
            "2           3           1   blue    M  92.08  active\n",
            "3           4           2  green    S  97.19  active\n",
            "4           5           2    red    M  37.72  active\n",
            "   order_id  customer_id  order_date  total_amount     status\n",
            "0         1            6  2024-04-12        450.35  completed\n",
            "1         2            4  2023-10-01        266.15  completed\n",
            "2         3           10  2023-09-18         37.70  completed\n",
            "3         4            8  2022-03-20        859.59  completed\n",
            "4         5            7  2022-08-10        104.81  completed\n",
            "   order_item_id  order_id  variant_id  quantity   price\n",
            "0              1         1           5         2   75.44\n",
            "1              2         1          24         2  171.30\n",
            "2              3         1          12         3   58.47\n",
            "3              4         1           9         2   51.96\n",
            "4              5         1           7         1   93.18\n"
          ]
        }
      ]
    },
    {
      "cell_type": "code",
      "source": [],
      "metadata": {
        "id": "qIfpton1zc9e"
      },
      "execution_count": null,
      "outputs": []
    },
    {
      "cell_type": "code",
      "source": [],
      "metadata": {
        "id": "lACG9WWgzdQd"
      },
      "execution_count": null,
      "outputs": []
    }
  ]
}